{
 "cells": [
  {
   "cell_type": "code",
   "execution_count": 112,
   "metadata": {},
   "outputs": [],
   "source": [
    "import numpy as np\n",
    "from sklearn import datasets\n",
    "import matplotlib.pyplot as plt\n",
    "from sklearn.datasets import make_moons"
   ]
  },
  {
   "cell_type": "markdown",
   "metadata": {},
   "source": [
    "### Create dataset"
   ]
  },
  {
   "cell_type": "code",
   "execution_count": 113,
   "metadata": {},
   "outputs": [],
   "source": [
    "def get_dataset(nb_datas, pct_unlabelled, type):\n",
    "    \n",
    "    if type == 'gaussian':\n",
    "        x = np.zeros((nb_datas, 2))\n",
    "        y = np.zeros(nb_datas)\n",
    "\n",
    "        sigma1 = [[1, 0], [0, 1]]\n",
    "        mu1 = [0, 0]\n",
    "        x[:nb_datas // 2,:] = np.random.multivariate_normal(mu1, sigma1, nb_datas // 2)\n",
    "        y[:nb_datas // 2] = 0\n",
    "        \n",
    "        sigma2 = [[1, 0], [0, 1]]\n",
    "        mu2 = [1, 1]\n",
    "        x[nb_datas // 2:,:] = np.random.multivariate_normal(mu2, sigma2, nb_datas // 2)\n",
    "        y[nb_datas // 2:] = 1\n",
    "        \n",
    "    elif type == 'moon':\n",
    "        x, y = make_moons(n_samples=nb_datas, shuffle=True, noise=0.1, random_state=None)\n",
    "\n",
    "    y_true = np.copy(y)\n",
    "    unlabeled_idx = np.random.choice(np.arange(0,nb_datas), int(nb_datas*pct_unlabelled), replace=False)\n",
    "    y[unlabeled_idx] = -1\n",
    "    \n",
    "    return x, y, y_true\n",
    "\n",
    "def label_to_color(y):\n",
    "    if y == -1:\n",
    "        color = [0.4, 0.4, 0.4]\n",
    "    elif y == 0:\n",
    "        color = [1, 0, 0]\n",
    "    elif y == 1:\n",
    "        color = [0, 1, 0]\n",
    "    return color"
   ]
  },
  {
   "cell_type": "markdown",
   "metadata": {},
   "source": [
    "### Set parameters"
   ]
  },
  {
   "cell_type": "code",
   "execution_count": 114,
   "metadata": {},
   "outputs": [],
   "source": [
    "nb_datas = 100\n",
    "nb_classes = 2\n",
    "k = 7\n",
    "sigma = 0.1\n",
    "kernel = 'rbf'\n",
    "nb_iter = 100"
   ]
  },
  {
   "cell_type": "code",
   "execution_count": null,
   "metadata": {},
   "outputs": [],
   "source": [
    "x, y, y_true = get_dataset(nb_datas = 100, pct_unlabelled=0.95, type='moon')"
   ]
  },
  {
   "cell_type": "code",
   "execution_count": 115,
   "metadata": {},
   "outputs": [
    {
     "data": {
      "image/png": "[encoded data removed]",
      "text/plain": [
       "<Figure size 720x720 with 1 Axes>"
      ]
     },
     "metadata": {
      "needs_background": "light"
     },
     "output_type": "display_data"
    }
   ],
   "source": [
    "plt.figure(figsize = (10, 10))\n",
    "for i in range(len(y)):\n",
    "    plt.plot(x[i,0], x[i,1], '.', c=label_to_color(y[i]), markersize=10)\n",
    "plt.grid()\n",
    "plt.show()"
   ]
  },
  {
   "cell_type": "markdown",
   "metadata": {},
   "source": [
    "### Kernel"
   ]
  },
  {
   "cell_type": "markdown",
   "metadata": {},
   "source": [
    "$$ K(x,x') = \\exp(-\\frac{\\lVert x - x'\\rVert^2}{\\sigma^2}) $$"
   ]
  },
  {
   "cell_type": "code",
   "execution_count": 116,
   "metadata": {},
   "outputs": [],
   "source": [
    "def get_rbf(d, sigma):\n",
    "    return np.exp(- d**2 / sigma**2)\n",
    "\n",
    "def get_knn(distance_matrix, k):\n",
    "    k_nn_graph = np.zeros(distance_matrix.shape, dtype=bool)\n",
    "    for i in range(len(k_nn_graph)):\n",
    "        k_nearest_neighbors = np.argsort(distance_matrix[i])[:k+1]\n",
    "        k_nn_graph[i][k_nearest_neighbors] = True\n",
    "        k_nn_graph[i][i] = False\n",
    "    return k_nn_graph"
   ]
  },
  {
   "cell_type": "markdown",
   "metadata": {},
   "source": [
    "### Distance Matrix"
   ]
  },
  {
   "cell_type": "code",
   "execution_count": 117,
   "metadata": {},
   "outputs": [],
   "source": [
    "def get_distance_matrix(x):\n",
    "    distance_matrix = np.zeros((len(x), len(x)))\n",
    "    for i in range(len(x)):\n",
    "        for j in range(len(x)):\n",
    "            distance_matrix[i,j] = np.linalg.norm(x[i] - x[j])\n",
    "    return distance_matrix"
   ]
  },
  {
   "cell_type": "code",
   "execution_count": 118,
   "metadata": {},
   "outputs": [],
   "source": [
    "distance_matrix = get_distance_matrix(x)\n",
    "\n",
    "if kernel == 'knn':\n",
    "    graph = get_knn(distance_matrix, k=10)\n",
    "elif kernel == 'rbf':\n",
    "    graph = get_rbf(distance_matrix, sigma)"
   ]
  },
  {
   "cell_type": "markdown",
   "metadata": {},
   "source": [
    "### Set transition Matrix"
   ]
  },
  {
   "cell_type": "code",
   "execution_count": 119,
   "metadata": {},
   "outputs": [],
   "source": [
    "T = np.zeros(graph.shape)\n",
    "for i in range(len(graph)):\n",
    "    T[i] = graph[i] / sum(graph[i])"
   ]
  },
  {
   "cell_type": "markdown",
   "metadata": {},
   "source": [
    "### Set labels distribution"
   ]
  },
  {
   "cell_type": "code",
   "execution_count": 120,
   "metadata": {},
   "outputs": [],
   "source": [
    "Y = np.zeros((nb_datas, 2))\n",
    "unlabelled = y == -1\n",
    "for i ,label in enumerate(y):\n",
    "    if label != -1:\n",
    "        Y[i, int(label)] = 1\n",
    "    else:\n",
    "        Y[i] = np.ones(2) / 2"
   ]
  },
  {
   "cell_type": "markdown",
   "metadata": {},
   "source": [
    "### Propagate labels"
   ]
  },
  {
   "cell_type": "code",
   "execution_count": 121,
   "metadata": {},
   "outputs": [],
   "source": [
    "for _ in range(nb_iter):\n",
    "    Y =  T @ Y\n",
    "    for i ,label in enumerate(y):\n",
    "        if label != -1:\n",
    "            c = np.zeros(2)\n",
    "            c[int(label)] = 1.0\n",
    "            Y[i] = c\n",
    "        else:\n",
    "            Y[i] / Y[i].sum()\n",
    "y_pred = np.argmax(Y, axis=1)"
   ]
  },
  {
   "cell_type": "markdown",
   "metadata": {},
   "source": [
    "### Get propagated labels"
   ]
  },
  {
   "cell_type": "code",
   "execution_count": 122,
   "metadata": {},
   "outputs": [
    {
     "name": "stdout",
     "output_type": "stream",
     "text": [
      "Accuracy : 0.9789473684210527\n"
     ]
    }
   ],
   "source": [
    "acc = sum(y_pred[unlabelled] == y_true[unlabelled]) / sum(unlabelled)\n",
    "print(f'Accuracy : {acc}')"
   ]
  },
  {
   "cell_type": "code",
   "execution_count": 123,
   "metadata": {},
   "outputs": [
    {
     "data": {
      "image/png": "[encoded data removed]",
      "text/plain": [
       "<Figure size 720x720 with 1 Axes>"
      ]
     },
     "metadata": {
      "needs_background": "light"
     },
     "output_type": "display_data"
    }
   ],
   "source": [
    "plt.figure(figsize = (10, 10))\n",
    "for i in range(len(y)):\n",
    "    plt.plot(x[i,0], x[i,1], '.', c=label_to_color(y_pred[i]), markersize=10)\n",
    "plt.grid()\n",
    "plt.show()"
   ]
  },
  {
   "cell_type": "code",
   "execution_count": 124,
   "metadata": {},
   "outputs": [
    {
     "name": "stdout",
     "output_type": "stream",
     "text": [
      "Accuracy : 0.9789473684210527\n"
     ]
    }
   ],
   "source": [
    "acc = sum(y_true[unlabelled] == np.argmax(Y, axis=1)[unlabelled]) / sum(unlabelled)\n",
    "print(f'Accuracy : {acc}')"
   ]
  },
  {
   "cell_type": "markdown",
   "metadata": {},
   "source": [
    "### Compare with RandomForestClassifier"
   ]
  },
  {
   "cell_type": "code",
   "execution_count": 125,
   "metadata": {},
   "outputs": [],
   "source": [
    "from sklearn.ensemble import RandomForestClassifier\n",
    "clf = RandomForestClassifier(max_depth=2, random_state=0)\n",
    "clf.fit(x[~unlabelled], y[~unlabelled])\n",
    "y_pred = clf.predict(x)"
   ]
  },
  {
   "cell_type": "code",
   "execution_count": 126,
   "metadata": {},
   "outputs": [
    {
     "name": "stdout",
     "output_type": "stream",
     "text": [
      "Accuracy : 0.5263157894736842\n"
     ]
    }
   ],
   "source": [
    "acc = sum(y_pred[unlabelled] == y_true[unlabelled]) / sum(unlabelled)\n",
    "print(f'Accuracy : {acc}')"
   ]
  },
  {
   "cell_type": "code",
   "execution_count": 127,
   "metadata": {},
   "outputs": [
    {
     "data": {
      "image/png": "[encoded data removed]",
      "text/plain": [
       "<Figure size 720x720 with 1 Axes>"
      ]
     },
     "metadata": {
      "needs_background": "light"
     },
     "output_type": "display_data"
    }
   ],
   "source": [
    "plt.figure(figsize = (10, 10))\n",
    "for i in range(len(y)):\n",
    "    plt.plot(x[i,0], x[i,1], '.', c=label_to_color(y_pred[i]), markersize=10)\n",
    "plt.grid()\n",
    "plt.show()"
   ]
  }
 ],
 "metadata": {
  "kernelspec": {
   "display_name": "Python 3",
   "language": "python",
   "name": "python3"
  },
  "language_info": {
   "codemirror_mode": {
    "name": "ipython",
    "version": 3
   },
   "file_extension": ".py",
   "mimetype": "text/x-python",
   "name": "python",
   "nbconvert_exporter": "python",
   "pygments_lexer": "ipython3",
   "version": "3.6.13"
  }
 },
 "nbformat": 4,
 "nbformat_minor": 4
}
